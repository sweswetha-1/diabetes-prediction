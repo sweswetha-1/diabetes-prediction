{
 "cells": [
  {
   "cell_type": "markdown",
   "id": "1ab4c0de",
   "metadata": {},
   "source": [
    "NAME : SWETHA V"
   ]
  },
  {
   "cell_type": "markdown",
   "id": "642fd548",
   "metadata": {},
   "source": [
    "REGISTER NUMBER : 20MIS0405"
   ]
  },
  {
   "cell_type": "code",
   "execution_count": null,
   "id": "5e04b027",
   "metadata": {},
   "outputs": [],
   "source": [
    "import pandas as pd\n",
    "import numpy as np\n",
    "import matplotlib.pyplot as plt\n",
    "import seaborn as sns"
   ]
  },
  {
   "cell_type": "code",
   "execution_count": 2,
   "id": "eb3e7796",
   "metadata": {},
   "outputs": [],
   "source": [
    "data = pd.read_csv('titanic.csv')"
   ]
  },
  {
   "cell_type": "code",
   "execution_count": 3,
   "id": "841ed9a3",
   "metadata": {},
   "outputs": [],
   "source": [
    "# 2. load the dataset\n",
    "data = sns.load_dataset('titanic')"
   ]
  },
  {
   "cell_type": "code",
   "execution_count": 4,
   "id": "3adb7ff3",
   "metadata": {},
   "outputs": [
    {
     "name": "stdout",
     "output_type": "stream",
     "text": [
      "<class 'pandas.core.frame.DataFrame'>\n",
      "RangeIndex: 891 entries, 0 to 890\n",
      "Data columns (total 15 columns):\n",
      " #   Column       Non-Null Count  Dtype   \n",
      "---  ------       --------------  -----   \n",
      " 0   survived     891 non-null    int64   \n",
      " 1   pclass       891 non-null    int64   \n",
      " 2   sex          891 non-null    object  \n",
      " 3   age          714 non-null    float64 \n",
      " 4   sibsp        891 non-null    int64   \n",
      " 5   parch        891 non-null    int64   \n",
      " 6   fare         891 non-null    float64 \n",
      " 7   embarked     889 non-null    object  \n",
      " 8   class        891 non-null    category\n",
      " 9   who          891 non-null    object  \n",
      " 10  adult_male   891 non-null    bool    \n",
      " 11  deck         203 non-null    category\n",
      " 12  embark_town  889 non-null    object  \n",
      " 13  alive        891 non-null    object  \n",
      " 14  alone        891 non-null    bool    \n",
      "dtypes: bool(2), category(2), float64(2), int64(4), object(5)\n",
      "memory usage: 80.7+ KB\n"
     ]
    }
   ],
   "source": [
    "data.info()"
   ]
  },
  {
   "cell_type": "code",
   "execution_count": 5,
   "id": "24065939",
   "metadata": {},
   "outputs": [
    {
     "data": {
      "text/plain": [
       "survived       False\n",
       "pclass         False\n",
       "sex            False\n",
       "age             True\n",
       "sibsp          False\n",
       "parch          False\n",
       "fare           False\n",
       "embarked        True\n",
       "class          False\n",
       "who            False\n",
       "adult_male     False\n",
       "deck            True\n",
       "embark_town     True\n",
       "alive          False\n",
       "alone          False\n",
       "dtype: bool"
      ]
     },
     "execution_count": 5,
     "metadata": {},
     "output_type": "execute_result"
    }
   ],
   "source": [
    "data.isnull().any()"
   ]
  },
  {
   "cell_type": "code",
   "execution_count": 6,
   "id": "2c67d7cd",
   "metadata": {},
   "outputs": [
    {
     "data": {
      "text/plain": [
       "(891, 15)"
      ]
     },
     "execution_count": 6,
     "metadata": {},
     "output_type": "execute_result"
    }
   ],
   "source": [
    "data.shape"
   ]
  },
  {
   "cell_type": "code",
   "execution_count": 8,
   "id": "8caa8c34",
   "metadata": {},
   "outputs": [
    {
     "data": {
      "text/plain": [
       "survived       False\n",
       "pclass         False\n",
       "sex            False\n",
       "age             True\n",
       "sibsp          False\n",
       "parch          False\n",
       "fare           False\n",
       "embarked        True\n",
       "class          False\n",
       "who            False\n",
       "adult_male     False\n",
       "deck            True\n",
       "embark_town     True\n",
       "alive          False\n",
       "alone          False\n",
       "dtype: bool"
      ]
     },
     "execution_count": 8,
     "metadata": {},
     "output_type": "execute_result"
    }
   ],
   "source": [
    "data.isnull().any()"
   ]
  },
  {
   "cell_type": "code",
   "execution_count": null,
   "id": "5c44df16",
   "metadata": {},
   "outputs": [],
   "source": [
    "# 3. univariate\n"
   ]
  },
  {
   "cell_type": "code",
   "execution_count": 64,
   "id": "92d489fa",
   "metadata": {},
   "outputs": [],
   "source": [
    "variable = 'fare'  # Replace 'column_name' with the actual column name you want to analyze"
   ]
  },
  {
   "cell_type": "code",
   "execution_count": 65,
   "id": "4324b2a0",
   "metadata": {},
   "outputs": [
    {
     "data": {
      "image/png": "[encoded data removed]",
      "text/plain": [
       "<Figure size 640x480 with 1 Axes>"
      ]
     },
     "metadata": {},
     "output_type": "display_data"
    }
   ],
   "source": [
    "plt.hist(data[variable], bins=10)\n",
    "plt.xlabel(variable)\n",
    "plt.ylabel('Frequency')\n",
    "plt.title('Histogram of ' + variable)\n",
    "plt.show()\n"
   ]
  },
  {
   "cell_type": "code",
   "execution_count": 10,
   "id": "3fcfc54d",
   "metadata": {},
   "outputs": [
    {
     "name": "stderr",
     "output_type": "stream",
     "text": [
      "C:\\Users\\lenovo\\AppData\\Local\\Temp\\ipykernel_14372\\1249216947.py:1: UserWarning: \n",
      "\n",
      "`distplot` is a deprecated function and will be removed in seaborn v0.14.0.\n",
      "\n",
      "Please adapt your code to use either `displot` (a figure-level function with\n",
      "similar flexibility) or `histplot` (an axes-level function for histograms).\n",
      "\n",
      "For a guide to updating your code to use the new functions, please see\n",
      "https://gist.github.com/mwaskom/de44147ed2974457ad6372750bbe5751\n",
      "\n",
      "  sns.distplot(data['fare'])\n"
     ]
    },
    {
     "data": {
      "text/plain": [
       "<Axes: xlabel='fare', ylabel='Density'>"
      ]
     },
     "execution_count": 10,
     "metadata": {},
     "output_type": "execute_result"
    },
    {
     "data": {
      "image/png": "[encoded data removed]",
      "text/plain": [
       "<Figure size 640x480 with 1 Axes>"
      ]
     },
     "metadata": {},
     "output_type": "display_data"
    }
   ],
   "source": [
    "sns.distplot(data['fare'])"
   ]
  },
  {
   "cell_type": "code",
   "execution_count": 11,
   "id": "b74e85fb",
   "metadata": {
    "scrolled": false
   },
   "outputs": [
    {
     "data": {
      "text/plain": [
       "<matplotlib.collections.PathCollection at 0x25f660528c0>"
      ]
     },
     "execution_count": 11,
     "metadata": {},
     "output_type": "execute_result"
    },
    {
     "data": {
      "image/png": "[encoded data removed]",
      "text/plain": [
       "<Figure size 640x480 with 1 Axes>"
      ]
     },
     "metadata": {},
     "output_type": "display_data"
    }
   ],
   "source": [
    "plt.scatter(data['fare'],data['parch'])"
   ]
  },
  {
   "cell_type": "code",
   "execution_count": 12,
   "id": "1ba78eb6",
   "metadata": {},
   "outputs": [
    {
     "data": {
      "text/plain": [
       "<BarContainer object of 891 artists>"
      ]
     },
     "execution_count": 12,
     "metadata": {},
     "output_type": "execute_result"
    },
    {
     "data": {
      "image/png": "[encoded data removed]",
      "text/plain": [
       "<Figure size 640x480 with 1 Axes>"
      ]
     },
     "metadata": {},
     "output_type": "display_data"
    }
   ],
   "source": [
    "plt.bar(data['fare'],data['parch'])"
   ]
  },
  {
   "cell_type": "code",
   "execution_count": 51,
   "id": "cf818097",
   "metadata": {},
   "outputs": [],
   "source": [
    "#bivariate"
   ]
  },
  {
   "cell_type": "code",
   "execution_count": 52,
   "id": "86926ead",
   "metadata": {},
   "outputs": [],
   "source": [
    "variable1 = 'fare'  # Replace 'column_name1' with the actual name of the first variable\n",
    "variable2 = 'parch'  # Replace 'column_name2' with the actual name of the second variable\n"
   ]
  },
  {
   "cell_type": "code",
   "execution_count": 54,
   "id": "3b5fd820",
   "metadata": {},
   "outputs": [
    {
     "data": {
      "image/png": "[encoded data removed]",
      "text/plain": [
       "<Figure size 640x480 with 1 Axes>"
      ]
     },
     "metadata": {},
     "output_type": "display_data"
    }
   ],
   "source": [
    "plt.scatter(data[variable1], data[variable2])\n",
    "plt.xlabel(variable1)\n",
    "plt.ylabel(variable2)\n",
    "plt.title('Scatter Plot of ' + variable1 + ' vs ' + variable2)\n",
    "plt.show()\n"
   ]
  },
  {
   "cell_type": "code",
   "execution_count": 55,
   "id": "9f051b09",
   "metadata": {},
   "outputs": [
    {
     "data": {
      "image/png": "[encoded data removed]",
      "text/plain": [
       "<Figure size 640x480 with 1 Axes>"
      ]
     },
     "metadata": {},
     "output_type": "display_data"
    }
   ],
   "source": [
    "plt.plot(data[variable1], data[variable2])\n",
    "plt.xlabel(variable1)\n",
    "plt.ylabel(variable2)\n",
    "plt.title('Line Plot of ' + variable1 + ' vs ' + variable2)\n",
    "plt.show()\n"
   ]
  },
  {
   "cell_type": "code",
   "execution_count": 56,
   "id": "cc408694",
   "metadata": {},
   "outputs": [],
   "source": [
    "variables = ['fare', 'parch', 'pclass']  # Replace with the actual names of the variables\n"
   ]
  },
  {
   "cell_type": "code",
   "execution_count": 57,
   "id": "75657135",
   "metadata": {},
   "outputs": [
    {
     "data": {
      "image/png": "[encoded data removed]",
      "text/plain": [
       "<Figure size 750x750 with 12 Axes>"
      ]
     },
     "metadata": {},
     "output_type": "display_data"
    }
   ],
   "source": [
    "# multivariate\n",
    "\n",
    "sns.pairplot(data[variables])\n",
    "plt.show()\n"
   ]
  },
  {
   "cell_type": "code",
   "execution_count": 58,
   "id": "386e83e1",
   "metadata": {},
   "outputs": [
    {
     "data": {
      "image/png": "[encoded data removed]",
      "text/plain": [
       "<Figure size 640x480 with 2 Axes>"
      ]
     },
     "metadata": {},
     "output_type": "display_data"
    }
   ],
   "source": [
    "correlation_matrix = data[variables].corr()\n",
    "sns.heatmap(correlation_matrix, annot=True, cmap='coolwarm')\n",
    "plt.title('Correlation Heatmap')\n",
    "plt.show()\n"
   ]
  },
  {
   "cell_type": "code",
   "execution_count": 14,
   "id": "4ecfb285",
   "metadata": {},
   "outputs": [
    {
     "data": {
      "text/plain": [
       "<Axes: >"
      ]
     },
     "execution_count": 14,
     "metadata": {},
     "output_type": "execute_result"
    },
    {
     "data": {
      "image/png": "[encoded data removed]",
      "text/plain": [
       "<Figure size 640x480 with 1 Axes>"
      ]
     },
     "metadata": {},
     "output_type": "display_data"
    }
   ],
   "source": [
    "#  6. Outlier \n",
    "sns.boxplot(data.fare)"
   ]
  },
  {
   "cell_type": "code",
   "execution_count": 15,
   "id": "2500fd69",
   "metadata": {},
   "outputs": [
    {
     "data": {
      "text/plain": [
       "249.00622000000035"
      ]
     },
     "execution_count": 15,
     "metadata": {},
     "output_type": "execute_result"
    }
   ],
   "source": [
    "perc99 = data.fare.quantile(0.99)\n",
    "perc99"
   ]
  },
  {
   "cell_type": "code",
   "execution_count": 16,
   "id": "761e13a2",
   "metadata": {},
   "outputs": [
    {
     "data": {
      "text/plain": [
       "<Axes: >"
      ]
     },
     "execution_count": 16,
     "metadata": {},
     "output_type": "execute_result"
    },
    {
     "data": {
      "image/png": "[encoded data removed]",
      "text/plain": [
       "<Figure size 640x480 with 1 Axes>"
      ]
     },
     "metadata": {},
     "output_type": "display_data"
    }
   ],
   "source": [
    "data = data[data.fare<=perc99]\n",
    "sns.boxplot(data.fare)"
   ]
  },
  {
   "cell_type": "code",
   "execution_count": 17,
   "id": "aa8e2484",
   "metadata": {},
   "outputs": [
    {
     "data": {
      "text/plain": [
       "Text(0.5, 1.0, 'fare vs parch')"
      ]
     },
     "execution_count": 17,
     "metadata": {},
     "output_type": "execute_result"
    },
    {
     "data": {
      "image/png": "[encoded data removed]",
      "text/plain": [
       "<Figure size 640x480 with 1 Axes>"
      ]
     },
     "metadata": {},
     "output_type": "display_data"
    }
   ],
   "source": [
    "plt.scatter(data.fare,data.parch)\n",
    "plt.xlabel('fare')\n",
    "plt.ylabel('parch')\n",
    "plt.title('fare vs parch')"
   ]
  },
  {
   "cell_type": "code",
   "execution_count": null,
   "id": "c154793c",
   "metadata": {},
   "outputs": [],
   "source": [
    "# 4. descriptive statistics"
   ]
  },
  {
   "cell_type": "code",
   "execution_count": 137,
   "id": "5f24926a",
   "metadata": {},
   "outputs": [
    {
     "data": {
      "text/html": [
       "<div>\n",
       "<style scoped>\n",
       "    .dataframe tbody tr th:only-of-type {\n",
       "        vertical-align: middle;\n",
       "    }\n",
       "\n",
       "    .dataframe tbody tr th {\n",
       "        vertical-align: top;\n",
       "    }\n",
       "\n",
       "    .dataframe thead th {\n",
       "        text-align: right;\n",
       "    }\n",
       "</style>\n",
       "<table border=\"1\" class=\"dataframe\">\n",
       "  <thead>\n",
       "    <tr style=\"text-align: right;\">\n",
       "      <th></th>\n",
       "      <th>survived</th>\n",
       "      <th>pclass</th>\n",
       "      <th>age</th>\n",
       "      <th>sibsp</th>\n",
       "      <th>parch</th>\n",
       "      <th>fare</th>\n",
       "    </tr>\n",
       "  </thead>\n",
       "  <tbody>\n",
       "    <tr>\n",
       "      <th>count</th>\n",
       "      <td>891.000000</td>\n",
       "      <td>891.000000</td>\n",
       "      <td>714.000000</td>\n",
       "      <td>891.000000</td>\n",
       "      <td>891.000000</td>\n",
       "      <td>891.000000</td>\n",
       "    </tr>\n",
       "    <tr>\n",
       "      <th>mean</th>\n",
       "      <td>0.383838</td>\n",
       "      <td>2.308642</td>\n",
       "      <td>29.699118</td>\n",
       "      <td>0.523008</td>\n",
       "      <td>0.381594</td>\n",
       "      <td>105.355780</td>\n",
       "    </tr>\n",
       "    <tr>\n",
       "      <th>std</th>\n",
       "      <td>0.486592</td>\n",
       "      <td>0.836071</td>\n",
       "      <td>14.526497</td>\n",
       "      <td>1.102743</td>\n",
       "      <td>0.806057</td>\n",
       "      <td>70.082521</td>\n",
       "    </tr>\n",
       "    <tr>\n",
       "      <th>min</th>\n",
       "      <td>0.000000</td>\n",
       "      <td>1.000000</td>\n",
       "      <td>0.420000</td>\n",
       "      <td>0.000000</td>\n",
       "      <td>0.000000</td>\n",
       "      <td>0.000000</td>\n",
       "    </tr>\n",
       "    <tr>\n",
       "      <th>25%</th>\n",
       "      <td>0.000000</td>\n",
       "      <td>2.000000</td>\n",
       "      <td>20.125000</td>\n",
       "      <td>0.000000</td>\n",
       "      <td>0.000000</td>\n",
       "      <td>40.500000</td>\n",
       "    </tr>\n",
       "    <tr>\n",
       "      <th>50%</th>\n",
       "      <td>0.000000</td>\n",
       "      <td>3.000000</td>\n",
       "      <td>28.000000</td>\n",
       "      <td>0.000000</td>\n",
       "      <td>0.000000</td>\n",
       "      <td>94.000000</td>\n",
       "    </tr>\n",
       "    <tr>\n",
       "      <th>75%</th>\n",
       "      <td>1.000000</td>\n",
       "      <td>3.000000</td>\n",
       "      <td>38.000000</td>\n",
       "      <td>1.000000</td>\n",
       "      <td>0.000000</td>\n",
       "      <td>157.000000</td>\n",
       "    </tr>\n",
       "    <tr>\n",
       "      <th>max</th>\n",
       "      <td>1.000000</td>\n",
       "      <td>3.000000</td>\n",
       "      <td>80.000000</td>\n",
       "      <td>8.000000</td>\n",
       "      <td>6.000000</td>\n",
       "      <td>247.000000</td>\n",
       "    </tr>\n",
       "  </tbody>\n",
       "</table>\n",
       "</div>"
      ],
      "text/plain": [
       "         survived      pclass         age       sibsp       parch        fare\n",
       "count  891.000000  891.000000  714.000000  891.000000  891.000000  891.000000\n",
       "mean     0.383838    2.308642   29.699118    0.523008    0.381594  105.355780\n",
       "std      0.486592    0.836071   14.526497    1.102743    0.806057   70.082521\n",
       "min      0.000000    1.000000    0.420000    0.000000    0.000000    0.000000\n",
       "25%      0.000000    2.000000   20.125000    0.000000    0.000000   40.500000\n",
       "50%      0.000000    3.000000   28.000000    0.000000    0.000000   94.000000\n",
       "75%      1.000000    3.000000   38.000000    1.000000    0.000000  157.000000\n",
       "max      1.000000    3.000000   80.000000    8.000000    6.000000  247.000000"
      ]
     },
     "execution_count": 137,
     "metadata": {},
     "output_type": "execute_result"
    }
   ],
   "source": [
    "data.describe()"
   ]
  },
  {
   "cell_type": "code",
   "execution_count": 68,
   "id": "9859552f",
   "metadata": {},
   "outputs": [
    {
     "name": "stderr",
     "output_type": "stream",
     "text": [
      "C:\\Users\\lenovo\\AppData\\Local\\Temp\\ipykernel_14372\\531903386.py:1: FutureWarning: The default value of numeric_only in DataFrame.mean is deprecated. In a future version, it will default to False. In addition, specifying 'numeric_only=None' is deprecated. Select only valid columns or specify the value of numeric_only to silence this warning.\n",
      "  data.mean()\n"
     ]
    },
    {
     "data": {
      "text/plain": [
       "survived       0.383838\n",
       "pclass         2.308642\n",
       "age           29.699118\n",
       "sibsp          0.523008\n",
       "parch          0.381594\n",
       "fare          32.204208\n",
       "adult_male     0.602694\n",
       "alone          0.602694\n",
       "dtype: float64"
      ]
     },
     "execution_count": 68,
     "metadata": {},
     "output_type": "execute_result"
    }
   ],
   "source": [
    "data.mean()"
   ]
  },
  {
   "cell_type": "code",
   "execution_count": 69,
   "id": "711ec535",
   "metadata": {},
   "outputs": [
    {
     "name": "stderr",
     "output_type": "stream",
     "text": [
      "C:\\Users\\lenovo\\AppData\\Local\\Temp\\ipykernel_14372\\4184645713.py:1: FutureWarning: The default value of numeric_only in DataFrame.median is deprecated. In a future version, it will default to False. In addition, specifying 'numeric_only=None' is deprecated. Select only valid columns or specify the value of numeric_only to silence this warning.\n",
      "  data.median()\n"
     ]
    },
    {
     "data": {
      "text/plain": [
       "survived       0.0000\n",
       "pclass         3.0000\n",
       "age           28.0000\n",
       "sibsp          0.0000\n",
       "parch          0.0000\n",
       "fare          14.4542\n",
       "adult_male     1.0000\n",
       "alone          1.0000\n",
       "dtype: float64"
      ]
     },
     "execution_count": 69,
     "metadata": {},
     "output_type": "execute_result"
    }
   ],
   "source": [
    "data.median()"
   ]
  },
  {
   "cell_type": "code",
   "execution_count": 70,
   "id": "83533744",
   "metadata": {},
   "outputs": [
    {
     "data": {
      "text/html": [
       "<div>\n",
       "<style scoped>\n",
       "    .dataframe tbody tr th:only-of-type {\n",
       "        vertical-align: middle;\n",
       "    }\n",
       "\n",
       "    .dataframe tbody tr th {\n",
       "        vertical-align: top;\n",
       "    }\n",
       "\n",
       "    .dataframe thead th {\n",
       "        text-align: right;\n",
       "    }\n",
       "</style>\n",
       "<table border=\"1\" class=\"dataframe\">\n",
       "  <thead>\n",
       "    <tr style=\"text-align: right;\">\n",
       "      <th></th>\n",
       "      <th>survived</th>\n",
       "      <th>pclass</th>\n",
       "      <th>sex</th>\n",
       "      <th>age</th>\n",
       "      <th>sibsp</th>\n",
       "      <th>parch</th>\n",
       "      <th>fare</th>\n",
       "      <th>embarked</th>\n",
       "      <th>class</th>\n",
       "      <th>who</th>\n",
       "      <th>adult_male</th>\n",
       "      <th>deck</th>\n",
       "      <th>embark_town</th>\n",
       "      <th>alive</th>\n",
       "      <th>alone</th>\n",
       "    </tr>\n",
       "  </thead>\n",
       "  <tbody>\n",
       "    <tr>\n",
       "      <th>0</th>\n",
       "      <td>0</td>\n",
       "      <td>3</td>\n",
       "      <td>male</td>\n",
       "      <td>24.0</td>\n",
       "      <td>0</td>\n",
       "      <td>0</td>\n",
       "      <td>8.05</td>\n",
       "      <td>S</td>\n",
       "      <td>Third</td>\n",
       "      <td>man</td>\n",
       "      <td>True</td>\n",
       "      <td>C</td>\n",
       "      <td>Southampton</td>\n",
       "      <td>no</td>\n",
       "      <td>True</td>\n",
       "    </tr>\n",
       "  </tbody>\n",
       "</table>\n",
       "</div>"
      ],
      "text/plain": [
       "   survived  pclass   sex   age  sibsp  parch  fare embarked  class  who  \\\n",
       "0         0       3  male  24.0      0      0  8.05        S  Third  man   \n",
       "\n",
       "   adult_male deck  embark_town alive  alone  \n",
       "0        True    C  Southampton    no   True  "
      ]
     },
     "execution_count": 70,
     "metadata": {},
     "output_type": "execute_result"
    }
   ],
   "source": [
    "data.mode()"
   ]
  },
  {
   "cell_type": "code",
   "execution_count": 71,
   "id": "743721bc",
   "metadata": {},
   "outputs": [
    {
     "name": "stderr",
     "output_type": "stream",
     "text": [
      "C:\\Users\\lenovo\\AppData\\Local\\Temp\\ipykernel_14372\\445316826.py:1: FutureWarning: The default value of numeric_only in DataFrame.var is deprecated. In a future version, it will default to False. In addition, specifying 'numeric_only=None' is deprecated. Select only valid columns or specify the value of numeric_only to silence this warning.\n",
      "  data.var()\n"
     ]
    },
    {
     "data": {
      "text/plain": [
       "survived         0.236772\n",
       "pclass           0.699015\n",
       "age            211.019125\n",
       "sibsp            1.216043\n",
       "parch            0.649728\n",
       "fare          2469.436846\n",
       "adult_male       0.239723\n",
       "alone            0.239723\n",
       "dtype: float64"
      ]
     },
     "execution_count": 71,
     "metadata": {},
     "output_type": "execute_result"
    }
   ],
   "source": [
    "data.var()"
   ]
  },
  {
   "cell_type": "code",
   "execution_count": 72,
   "id": "a6fa076a",
   "metadata": {},
   "outputs": [
    {
     "name": "stderr",
     "output_type": "stream",
     "text": [
      "C:\\Users\\lenovo\\AppData\\Local\\Temp\\ipykernel_14372\\2723740006.py:1: FutureWarning: The default value of numeric_only in DataFrame.std is deprecated. In a future version, it will default to False. In addition, specifying 'numeric_only=None' is deprecated. Select only valid columns or specify the value of numeric_only to silence this warning.\n",
      "  data.std()\n"
     ]
    },
    {
     "data": {
      "text/plain": [
       "survived       0.486592\n",
       "pclass         0.836071\n",
       "age           14.526497\n",
       "sibsp          1.102743\n",
       "parch          0.806057\n",
       "fare          49.693429\n",
       "adult_male     0.489615\n",
       "alone          0.489615\n",
       "dtype: float64"
      ]
     },
     "execution_count": 72,
     "metadata": {},
     "output_type": "execute_result"
    }
   ],
   "source": [
    "data.std()"
   ]
  },
  {
   "cell_type": "code",
   "execution_count": 73,
   "id": "2fca2caf",
   "metadata": {},
   "outputs": [
    {
     "data": {
      "text/plain": [
       "survived       False\n",
       "pclass         False\n",
       "sex            False\n",
       "age             True\n",
       "sibsp          False\n",
       "parch          False\n",
       "fare           False\n",
       "embarked        True\n",
       "class          False\n",
       "who            False\n",
       "adult_male     False\n",
       "deck            True\n",
       "embark_town     True\n",
       "alive          False\n",
       "alone          False\n",
       "dtype: bool"
      ]
     },
     "execution_count": 73,
     "metadata": {},
     "output_type": "execute_result"
    }
   ],
   "source": [
    "data.isnull().any()"
   ]
  },
  {
   "cell_type": "code",
   "execution_count": 74,
   "id": "9b910a99",
   "metadata": {},
   "outputs": [
    {
     "data": {
      "text/plain": [
       "survived         0\n",
       "pclass           0\n",
       "sex              0\n",
       "age            177\n",
       "sibsp            0\n",
       "parch            0\n",
       "fare             0\n",
       "embarked         2\n",
       "class            0\n",
       "who              0\n",
       "adult_male       0\n",
       "deck           688\n",
       "embark_town      2\n",
       "alive            0\n",
       "alone            0\n",
       "dtype: int64"
      ]
     },
     "execution_count": 74,
     "metadata": {},
     "output_type": "execute_result"
    }
   ],
   "source": [
    "data.isnull().sum()"
   ]
  },
  {
   "cell_type": "code",
   "execution_count": 167,
   "id": "585acf84",
   "metadata": {},
   "outputs": [
    {
     "name": "stdout",
     "output_type": "stream",
     "text": [
      "survived         0\n",
      "pclass           0\n",
      "sex              0\n",
      "age            177\n",
      "sibsp            0\n",
      "parch            0\n",
      "fare             0\n",
      "embarked         2\n",
      "class            0\n",
      "who              0\n",
      "adult_male       0\n",
      "deck           688\n",
      "embark_town      2\n",
      "alive            0\n",
      "alone            0\n",
      "dtype: int64\n"
     ]
    }
   ],
   "source": [
    "# 5. Check for missing values\n",
    "\n",
    "print(data.isnull().sum())\n"
   ]
  },
  {
   "cell_type": "code",
   "execution_count": 158,
   "id": "95ffc595",
   "metadata": {},
   "outputs": [],
   "source": [
    "data_cleaned = data.dropna(axis=1)"
   ]
  },
  {
   "cell_type": "code",
   "execution_count": 75,
   "id": "b5f30f96",
   "metadata": {},
   "outputs": [],
   "source": [
    "#7. check for categorical columns encoding\n",
    "\n",
    "from sklearn.preprocessing import LabelEncoder"
   ]
  },
  {
   "cell_type": "code",
   "execution_count": 76,
   "id": "2bc802dc",
   "metadata": {},
   "outputs": [],
   "source": [
    "label_encoder = LabelEncoder()"
   ]
  },
  {
   "cell_type": "code",
   "execution_count": 77,
   "id": "3952b31e",
   "metadata": {},
   "outputs": [],
   "source": [
    "data = pd.read_csv('titanic.csv')\n"
   ]
  },
  {
   "cell_type": "code",
   "execution_count": 78,
   "id": "96c14a2e",
   "metadata": {},
   "outputs": [],
   "source": [
    "data[\"fare\"]=label_encoder.fit_transform(data['fare'])"
   ]
  },
  {
   "cell_type": "code",
   "execution_count": 172,
   "id": "5ce0957b",
   "metadata": {},
   "outputs": [
    {
     "name": "stdout",
     "output_type": "stream",
     "text": [
      "     survived  pclass     sex   age  sibsp  parch     fare embarked   class  \\\n",
      "0           0       3    male  22.0      1      0   7.2500        S   Third   \n",
      "1           1       1  female  38.0      1      0  71.2833        C   First   \n",
      "2           1       3  female  26.0      0      0   7.9250        S   Third   \n",
      "3           1       1  female  35.0      1      0  53.1000        S   First   \n",
      "4           0       3    male  35.0      0      0   8.0500        S   Third   \n",
      "..        ...     ...     ...   ...    ...    ...      ...      ...     ...   \n",
      "886         0       2    male  27.0      0      0  13.0000        S  Second   \n",
      "887         1       1  female  19.0      0      0  30.0000        S   First   \n",
      "888         0       3  female   NaN      1      2  23.4500        S   Third   \n",
      "889         1       1    male  26.0      0      0  30.0000        C   First   \n",
      "890         0       3    male  32.0      0      0   7.7500        Q   Third   \n",
      "\n",
      "       who  adult_male deck  embark_town alive  alone  \n",
      "0      man        True  NaN  Southampton    no  False  \n",
      "1    woman       False    C    Cherbourg   yes  False  \n",
      "2    woman       False  NaN  Southampton   yes   True  \n",
      "3    woman       False    C  Southampton   yes  False  \n",
      "4      man        True  NaN  Southampton    no   True  \n",
      "..     ...         ...  ...          ...   ...    ...  \n",
      "886    man        True  NaN  Southampton    no   True  \n",
      "887  woman       False    B  Southampton   yes   True  \n",
      "888  woman       False  NaN  Southampton    no  False  \n",
      "889    man        True    C    Cherbourg   yes   True  \n",
      "890    man        True  NaN   Queenstown    no   True  \n",
      "\n",
      "[891 rows x 15 columns]\n"
     ]
    }
   ],
   "source": [
    "print(data)"
   ]
  },
  {
   "cell_type": "code",
   "execution_count": 177,
   "id": "eb824dc0",
   "metadata": {},
   "outputs": [],
   "source": [
    "# encoding\n",
    "from sklearn.preprocessing import LabelEncoder"
   ]
  },
  {
   "cell_type": "code",
   "execution_count": 83,
   "id": "e0e06ffb",
   "metadata": {},
   "outputs": [
    {
     "data": {
      "text/plain": [
       "0       18\n",
       "1      207\n",
       "2       41\n",
       "3      189\n",
       "4       43\n",
       "      ... \n",
       "886     85\n",
       "887    153\n",
       "888    131\n",
       "889    153\n",
       "890     30\n",
       "Name: fare, Length: 891, dtype: int64"
      ]
     },
     "execution_count": 83,
     "metadata": {},
     "output_type": "execute_result"
    }
   ],
   "source": [
    "y"
   ]
  },
  {
   "cell_type": "code",
   "execution_count": null,
   "id": "2faa4099",
   "metadata": {},
   "outputs": [],
   "source": [
    "le = LabelEncoder()"
   ]
  },
  {
   "cell_type": "code",
   "execution_count": null,
   "id": "b1abc949",
   "metadata": {},
   "outputs": [],
   "source": [
    "data.fare = le.fit_transform(data.fare)"
   ]
  },
  {
   "cell_type": "code",
   "execution_count": 178,
   "id": "9ab1b86f",
   "metadata": {},
   "outputs": [
    {
     "name": "stderr",
     "output_type": "stream",
     "text": [
      "C:\\Users\\lenovo\\AppData\\Local\\Temp\\ipykernel_14372\\1750094720.py:1: FutureWarning: The default value of numeric_only in DataFrame.corr is deprecated. In a future version, it will default to False. Select only valid columns or specify the value of numeric_only to silence this warning.\n",
      "  data_main.corr()\n"
     ]
    },
    {
     "data": {
      "text/html": [
       "<div>\n",
       "<style scoped>\n",
       "    .dataframe tbody tr th:only-of-type {\n",
       "        vertical-align: middle;\n",
       "    }\n",
       "\n",
       "    .dataframe tbody tr th {\n",
       "        vertical-align: top;\n",
       "    }\n",
       "\n",
       "    .dataframe thead th {\n",
       "        text-align: right;\n",
       "    }\n",
       "</style>\n",
       "<table border=\"1\" class=\"dataframe\">\n",
       "  <thead>\n",
       "    <tr style=\"text-align: right;\">\n",
       "      <th></th>\n",
       "      <th>survived</th>\n",
       "      <th>pclass</th>\n",
       "      <th>age</th>\n",
       "      <th>sibsp</th>\n",
       "      <th>parch</th>\n",
       "      <th>adult_male</th>\n",
       "      <th>alone</th>\n",
       "      <th>fare_0</th>\n",
       "      <th>fare_1</th>\n",
       "      <th>fare_2</th>\n",
       "      <th>...</th>\n",
       "      <th>fare_238</th>\n",
       "      <th>fare_239</th>\n",
       "      <th>fare_240</th>\n",
       "      <th>fare_241</th>\n",
       "      <th>fare_242</th>\n",
       "      <th>fare_243</th>\n",
       "      <th>fare_244</th>\n",
       "      <th>fare_245</th>\n",
       "      <th>fare_246</th>\n",
       "      <th>fare_247</th>\n",
       "    </tr>\n",
       "  </thead>\n",
       "  <tbody>\n",
       "    <tr>\n",
       "      <th>survived</th>\n",
       "      <td>1.000000</td>\n",
       "      <td>-0.338481</td>\n",
       "      <td>-0.077221</td>\n",
       "      <td>-0.035322</td>\n",
       "      <td>0.081629</td>\n",
       "      <td>-0.557080</td>\n",
       "      <td>-0.203367</td>\n",
       "      <td>-0.085343</td>\n",
       "      <td>-0.026456</td>\n",
       "      <td>-0.026456</td>\n",
       "      <td>...</td>\n",
       "      <td>0.033803</td>\n",
       "      <td>0.060095</td>\n",
       "      <td>0.073642</td>\n",
       "      <td>-0.026456</td>\n",
       "      <td>-0.026456</td>\n",
       "      <td>0.050561</td>\n",
       "      <td>0.011329</td>\n",
       "      <td>0.060095</td>\n",
       "      <td>0.016040</td>\n",
       "      <td>0.073642</td>\n",
       "    </tr>\n",
       "    <tr>\n",
       "      <th>pclass</th>\n",
       "      <td>-0.338481</td>\n",
       "      <td>1.000000</td>\n",
       "      <td>-0.369226</td>\n",
       "      <td>0.083081</td>\n",
       "      <td>0.018443</td>\n",
       "      <td>0.094035</td>\n",
       "      <td>0.135207</td>\n",
       "      <td>-0.058774</td>\n",
       "      <td>0.027734</td>\n",
       "      <td>-0.052496</td>\n",
       "      <td>...</td>\n",
       "      <td>-0.091028</td>\n",
       "      <td>-0.074282</td>\n",
       "      <td>-0.091028</td>\n",
       "      <td>-0.052496</td>\n",
       "      <td>-0.052496</td>\n",
       "      <td>-0.105169</td>\n",
       "      <td>-0.074282</td>\n",
       "      <td>-0.074282</td>\n",
       "      <td>-0.105169</td>\n",
       "      <td>-0.091028</td>\n",
       "    </tr>\n",
       "    <tr>\n",
       "      <th>age</th>\n",
       "      <td>-0.077221</td>\n",
       "      <td>-0.369226</td>\n",
       "      <td>1.000000</td>\n",
       "      <td>-0.308247</td>\n",
       "      <td>-0.189119</td>\n",
       "      <td>0.280328</td>\n",
       "      <td>0.198270</td>\n",
       "      <td>0.037315</td>\n",
       "      <td>-0.025023</td>\n",
       "      <td>0.008516</td>\n",
       "      <td>...</td>\n",
       "      <td>0.069959</td>\n",
       "      <td>0.030307</td>\n",
       "      <td>-0.003128</td>\n",
       "      <td>-0.006963</td>\n",
       "      <td>NaN</td>\n",
       "      <td>0.013279</td>\n",
       "      <td>0.026656</td>\n",
       "      <td>-0.037238</td>\n",
       "      <td>0.014482</td>\n",
       "      <td>0.025212</td>\n",
       "    </tr>\n",
       "    <tr>\n",
       "      <th>sibsp</th>\n",
       "      <td>-0.035322</td>\n",
       "      <td>0.083081</td>\n",
       "      <td>-0.308247</td>\n",
       "      <td>1.000000</td>\n",
       "      <td>0.414838</td>\n",
       "      <td>-0.253586</td>\n",
       "      <td>-0.584471</td>\n",
       "      <td>-0.062097</td>\n",
       "      <td>-0.015907</td>\n",
       "      <td>-0.015907</td>\n",
       "      <td>...</td>\n",
       "      <td>-0.027582</td>\n",
       "      <td>-0.000990</td>\n",
       "      <td>-0.027582</td>\n",
       "      <td>-0.015907</td>\n",
       "      <td>-0.015907</td>\n",
       "      <td>-0.016635</td>\n",
       "      <td>-0.022508</td>\n",
       "      <td>0.063564</td>\n",
       "      <td>0.120460</td>\n",
       "      <td>-0.027582</td>\n",
       "    </tr>\n",
       "    <tr>\n",
       "      <th>parch</th>\n",
       "      <td>0.081629</td>\n",
       "      <td>0.018443</td>\n",
       "      <td>-0.189119</td>\n",
       "      <td>0.414838</td>\n",
       "      <td>1.000000</td>\n",
       "      <td>-0.349943</td>\n",
       "      <td>-0.583398</td>\n",
       "      <td>-0.061983</td>\n",
       "      <td>-0.015878</td>\n",
       "      <td>-0.015878</td>\n",
       "      <td>...</td>\n",
       "      <td>0.020568</td>\n",
       "      <td>0.065848</td>\n",
       "      <td>0.020568</td>\n",
       "      <td>0.067340</td>\n",
       "      <td>-0.015878</td>\n",
       "      <td>-0.031809</td>\n",
       "      <td>0.036410</td>\n",
       "      <td>0.095286</td>\n",
       "      <td>0.176586</td>\n",
       "      <td>-0.003482</td>\n",
       "    </tr>\n",
       "    <tr>\n",
       "      <th>...</th>\n",
       "      <td>...</td>\n",
       "      <td>...</td>\n",
       "      <td>...</td>\n",
       "      <td>...</td>\n",
       "      <td>...</td>\n",
       "      <td>...</td>\n",
       "      <td>...</td>\n",
       "      <td>...</td>\n",
       "      <td>...</td>\n",
       "      <td>...</td>\n",
       "      <td>...</td>\n",
       "      <td>...</td>\n",
       "      <td>...</td>\n",
       "      <td>...</td>\n",
       "      <td>...</td>\n",
       "      <td>...</td>\n",
       "      <td>...</td>\n",
       "      <td>...</td>\n",
       "      <td>...</td>\n",
       "      <td>...</td>\n",
       "      <td>...</td>\n",
       "    </tr>\n",
       "    <tr>\n",
       "      <th>fare_243</th>\n",
       "      <td>0.050561</td>\n",
       "      <td>-0.105169</td>\n",
       "      <td>0.013279</td>\n",
       "      <td>-0.016635</td>\n",
       "      <td>-0.031809</td>\n",
       "      <td>-0.048401</td>\n",
       "      <td>0.020215</td>\n",
       "      <td>-0.008787</td>\n",
       "      <td>-0.002251</td>\n",
       "      <td>-0.002251</td>\n",
       "      <td>...</td>\n",
       "      <td>-0.003903</td>\n",
       "      <td>-0.003185</td>\n",
       "      <td>-0.003903</td>\n",
       "      <td>-0.002251</td>\n",
       "      <td>-0.002251</td>\n",
       "      <td>1.000000</td>\n",
       "      <td>-0.003185</td>\n",
       "      <td>-0.003185</td>\n",
       "      <td>-0.004510</td>\n",
       "      <td>-0.003903</td>\n",
       "    </tr>\n",
       "    <tr>\n",
       "      <th>fare_244</th>\n",
       "      <td>0.011329</td>\n",
       "      <td>-0.074282</td>\n",
       "      <td>0.026656</td>\n",
       "      <td>-0.022508</td>\n",
       "      <td>0.036410</td>\n",
       "      <td>-0.009954</td>\n",
       "      <td>-0.058418</td>\n",
       "      <td>-0.006207</td>\n",
       "      <td>-0.001590</td>\n",
       "      <td>-0.001590</td>\n",
       "      <td>...</td>\n",
       "      <td>-0.002757</td>\n",
       "      <td>-0.002250</td>\n",
       "      <td>-0.002757</td>\n",
       "      <td>-0.001590</td>\n",
       "      <td>-0.001590</td>\n",
       "      <td>-0.003185</td>\n",
       "      <td>1.000000</td>\n",
       "      <td>-0.002250</td>\n",
       "      <td>-0.003185</td>\n",
       "      <td>-0.002757</td>\n",
       "    </tr>\n",
       "    <tr>\n",
       "      <th>fare_245</th>\n",
       "      <td>0.060095</td>\n",
       "      <td>-0.074282</td>\n",
       "      <td>-0.037238</td>\n",
       "      <td>0.063564</td>\n",
       "      <td>0.095286</td>\n",
       "      <td>-0.058418</td>\n",
       "      <td>-0.058418</td>\n",
       "      <td>-0.006207</td>\n",
       "      <td>-0.001590</td>\n",
       "      <td>-0.001590</td>\n",
       "      <td>...</td>\n",
       "      <td>-0.002757</td>\n",
       "      <td>-0.002250</td>\n",
       "      <td>-0.002757</td>\n",
       "      <td>-0.001590</td>\n",
       "      <td>-0.001590</td>\n",
       "      <td>-0.003185</td>\n",
       "      <td>-0.002250</td>\n",
       "      <td>1.000000</td>\n",
       "      <td>-0.003185</td>\n",
       "      <td>-0.002757</td>\n",
       "    </tr>\n",
       "    <tr>\n",
       "      <th>fare_246</th>\n",
       "      <td>0.016040</td>\n",
       "      <td>-0.105169</td>\n",
       "      <td>0.014482</td>\n",
       "      <td>0.120460</td>\n",
       "      <td>0.176586</td>\n",
       "      <td>-0.014093</td>\n",
       "      <td>-0.082709</td>\n",
       "      <td>-0.008787</td>\n",
       "      <td>-0.002251</td>\n",
       "      <td>-0.002251</td>\n",
       "      <td>...</td>\n",
       "      <td>-0.003903</td>\n",
       "      <td>-0.003185</td>\n",
       "      <td>-0.003903</td>\n",
       "      <td>-0.002251</td>\n",
       "      <td>-0.002251</td>\n",
       "      <td>-0.004510</td>\n",
       "      <td>-0.003185</td>\n",
       "      <td>-0.003185</td>\n",
       "      <td>1.000000</td>\n",
       "      <td>-0.003903</td>\n",
       "    </tr>\n",
       "    <tr>\n",
       "      <th>fare_247</th>\n",
       "      <td>0.073642</td>\n",
       "      <td>-0.091028</td>\n",
       "      <td>0.025212</td>\n",
       "      <td>-0.027582</td>\n",
       "      <td>-0.003482</td>\n",
       "      <td>0.007599</td>\n",
       "      <td>0.007599</td>\n",
       "      <td>-0.007606</td>\n",
       "      <td>-0.001948</td>\n",
       "      <td>-0.001948</td>\n",
       "      <td>...</td>\n",
       "      <td>-0.003378</td>\n",
       "      <td>-0.002757</td>\n",
       "      <td>-0.003378</td>\n",
       "      <td>-0.001948</td>\n",
       "      <td>-0.001948</td>\n",
       "      <td>-0.003903</td>\n",
       "      <td>-0.002757</td>\n",
       "      <td>-0.002757</td>\n",
       "      <td>-0.003903</td>\n",
       "      <td>1.000000</td>\n",
       "    </tr>\n",
       "  </tbody>\n",
       "</table>\n",
       "<p>255 rows × 255 columns</p>\n",
       "</div>"
      ],
      "text/plain": [
       "          survived    pclass       age     sibsp     parch  adult_male  \\\n",
       "survived  1.000000 -0.338481 -0.077221 -0.035322  0.081629   -0.557080   \n",
       "pclass   -0.338481  1.000000 -0.369226  0.083081  0.018443    0.094035   \n",
       "age      -0.077221 -0.369226  1.000000 -0.308247 -0.189119    0.280328   \n",
       "sibsp    -0.035322  0.083081 -0.308247  1.000000  0.414838   -0.253586   \n",
       "parch     0.081629  0.018443 -0.189119  0.414838  1.000000   -0.349943   \n",
       "...            ...       ...       ...       ...       ...         ...   \n",
       "fare_243  0.050561 -0.105169  0.013279 -0.016635 -0.031809   -0.048401   \n",
       "fare_244  0.011329 -0.074282  0.026656 -0.022508  0.036410   -0.009954   \n",
       "fare_245  0.060095 -0.074282 -0.037238  0.063564  0.095286   -0.058418   \n",
       "fare_246  0.016040 -0.105169  0.014482  0.120460  0.176586   -0.014093   \n",
       "fare_247  0.073642 -0.091028  0.025212 -0.027582 -0.003482    0.007599   \n",
       "\n",
       "             alone    fare_0    fare_1    fare_2  ...  fare_238  fare_239  \\\n",
       "survived -0.203367 -0.085343 -0.026456 -0.026456  ...  0.033803  0.060095   \n",
       "pclass    0.135207 -0.058774  0.027734 -0.052496  ... -0.091028 -0.074282   \n",
       "age       0.198270  0.037315 -0.025023  0.008516  ...  0.069959  0.030307   \n",
       "sibsp    -0.584471 -0.062097 -0.015907 -0.015907  ... -0.027582 -0.000990   \n",
       "parch    -0.583398 -0.061983 -0.015878 -0.015878  ...  0.020568  0.065848   \n",
       "...            ...       ...       ...       ...  ...       ...       ...   \n",
       "fare_243  0.020215 -0.008787 -0.002251 -0.002251  ... -0.003903 -0.003185   \n",
       "fare_244 -0.058418 -0.006207 -0.001590 -0.001590  ... -0.002757 -0.002250   \n",
       "fare_245 -0.058418 -0.006207 -0.001590 -0.001590  ... -0.002757 -0.002250   \n",
       "fare_246 -0.082709 -0.008787 -0.002251 -0.002251  ... -0.003903 -0.003185   \n",
       "fare_247  0.007599 -0.007606 -0.001948 -0.001948  ... -0.003378 -0.002757   \n",
       "\n",
       "          fare_240  fare_241  fare_242  fare_243  fare_244  fare_245  \\\n",
       "survived  0.073642 -0.026456 -0.026456  0.050561  0.011329  0.060095   \n",
       "pclass   -0.091028 -0.052496 -0.052496 -0.105169 -0.074282 -0.074282   \n",
       "age      -0.003128 -0.006963       NaN  0.013279  0.026656 -0.037238   \n",
       "sibsp    -0.027582 -0.015907 -0.015907 -0.016635 -0.022508  0.063564   \n",
       "parch     0.020568  0.067340 -0.015878 -0.031809  0.036410  0.095286   \n",
       "...            ...       ...       ...       ...       ...       ...   \n",
       "fare_243 -0.003903 -0.002251 -0.002251  1.000000 -0.003185 -0.003185   \n",
       "fare_244 -0.002757 -0.001590 -0.001590 -0.003185  1.000000 -0.002250   \n",
       "fare_245 -0.002757 -0.001590 -0.001590 -0.003185 -0.002250  1.000000   \n",
       "fare_246 -0.003903 -0.002251 -0.002251 -0.004510 -0.003185 -0.003185   \n",
       "fare_247 -0.003378 -0.001948 -0.001948 -0.003903 -0.002757 -0.002757   \n",
       "\n",
       "          fare_246  fare_247  \n",
       "survived  0.016040  0.073642  \n",
       "pclass   -0.105169 -0.091028  \n",
       "age       0.014482  0.025212  \n",
       "sibsp     0.120460 -0.027582  \n",
       "parch     0.176586 -0.003482  \n",
       "...            ...       ...  \n",
       "fare_243 -0.004510 -0.003903  \n",
       "fare_244 -0.003185 -0.002757  \n",
       "fare_245 -0.003185 -0.002757  \n",
       "fare_246  1.000000 -0.003903  \n",
       "fare_247 -0.003903  1.000000  \n",
       "\n",
       "[255 rows x 255 columns]"
      ]
     },
     "execution_count": 178,
     "metadata": {},
     "output_type": "execute_result"
    }
   ],
   "source": [
    "data_main.corr()"
   ]
  },
  {
   "cell_type": "code",
   "execution_count": 173,
   "id": "f3bca675",
   "metadata": {},
   "outputs": [
    {
     "data": {
      "text/plain": [
       "0      0\n",
       "1      0\n",
       "2      0\n",
       "3      0\n",
       "4      0\n",
       "      ..\n",
       "886    0\n",
       "887    0\n",
       "888    2\n",
       "889    0\n",
       "890    0\n",
       "Name: parch, Length: 891, dtype: int64"
      ]
     },
     "execution_count": 173,
     "metadata": {},
     "output_type": "execute_result"
    }
   ],
   "source": [
    "x"
   ]
  },
  {
   "cell_type": "code",
   "execution_count": 179,
   "id": "33a96af0",
   "metadata": {},
   "outputs": [
    {
     "name": "stdout",
     "output_type": "stream",
     "text": [
      "     survived  pclass     sex   age  sibsp  parch     fare embarked   class  \\\n",
      "0           0       3    male  22.0      1      0   7.2500        S   Third   \n",
      "1           1       1  female  38.0      1      0  71.2833        C   First   \n",
      "2           1       3  female  26.0      0      0   7.9250        S   Third   \n",
      "3           1       1  female  35.0      1      0  53.1000        S   First   \n",
      "4           0       3    male  35.0      0      0   8.0500        S   Third   \n",
      "..        ...     ...     ...   ...    ...    ...      ...      ...     ...   \n",
      "886         0       2    male  27.0      0      0  13.0000        S  Second   \n",
      "887         1       1  female  19.0      0      0  30.0000        S   First   \n",
      "888         0       3  female   NaN      1      2  23.4500        S   Third   \n",
      "889         1       1    male  26.0      0      0  30.0000        C   First   \n",
      "890         0       3    male  32.0      0      0   7.7500        Q   Third   \n",
      "\n",
      "       who  adult_male deck  embark_town alive  alone  \n",
      "0      man        True  NaN  Southampton    no  False  \n",
      "1    woman       False    C    Cherbourg   yes  False  \n",
      "2    woman       False  NaN  Southampton   yes   True  \n",
      "3    woman       False    C  Southampton   yes  False  \n",
      "4      man        True  NaN  Southampton    no   True  \n",
      "..     ...         ...  ...          ...   ...    ...  \n",
      "886    man        True  NaN  Southampton    no   True  \n",
      "887  woman       False    B  Southampton   yes   True  \n",
      "888  woman       False  NaN  Southampton    no  False  \n",
      "889    man        True    C    Cherbourg   yes   True  \n",
      "890    man        True  NaN   Queenstown    no   True  \n",
      "\n",
      "[891 rows x 15 columns]\n"
     ]
    }
   ],
   "source": [
    "data_main=pd.get_dummies(data,columns=['fare'])\n",
    "print(data)"
   ]
  },
  {
   "cell_type": "code",
   "execution_count": 141,
   "id": "792a1755",
   "metadata": {},
   "outputs": [],
   "source": [
    "# 7. encoding\n",
    "from sklearn.preprocessing import LabelEncoder"
   ]
  },
  {
   "cell_type": "code",
   "execution_count": 142,
   "id": "aa5e7ec3",
   "metadata": {},
   "outputs": [],
   "source": [
    "le = LabelEncoder()"
   ]
  },
  {
   "cell_type": "code",
   "execution_count": 143,
   "id": "83f0a179",
   "metadata": {},
   "outputs": [],
   "source": [
    "data.fare = le.fit_transform(data.fare)"
   ]
  },
  {
   "cell_type": "code",
   "execution_count": 116,
   "id": "5ac43d83",
   "metadata": {},
   "outputs": [],
   "source": [
    "data_main=pd.get_dummies(data,columns=['fare'])\n"
   ]
  },
  {
   "cell_type": "code",
   "execution_count": 118,
   "id": "bb56d66d",
   "metadata": {},
   "outputs": [
    {
     "name": "stderr",
     "output_type": "stream",
     "text": [
      "C:\\Users\\lenovo\\AppData\\Local\\Temp\\ipykernel_14372\\1750094720.py:1: FutureWarning: The default value of numeric_only in DataFrame.corr is deprecated. In a future version, it will default to False. Select only valid columns or specify the value of numeric_only to silence this warning.\n",
      "  data_main.corr()\n"
     ]
    },
    {
     "data": {
      "text/html": [
       "<div>\n",
       "<style scoped>\n",
       "    .dataframe tbody tr th:only-of-type {\n",
       "        vertical-align: middle;\n",
       "    }\n",
       "\n",
       "    .dataframe tbody tr th {\n",
       "        vertical-align: top;\n",
       "    }\n",
       "\n",
       "    .dataframe thead th {\n",
       "        text-align: right;\n",
       "    }\n",
       "</style>\n",
       "<table border=\"1\" class=\"dataframe\">\n",
       "  <thead>\n",
       "    <tr style=\"text-align: right;\">\n",
       "      <th></th>\n",
       "      <th>survived</th>\n",
       "      <th>pclass</th>\n",
       "      <th>age</th>\n",
       "      <th>sibsp</th>\n",
       "      <th>parch</th>\n",
       "      <th>adult_male</th>\n",
       "      <th>alone</th>\n",
       "      <th>fare_0</th>\n",
       "      <th>fare_1</th>\n",
       "      <th>fare_2</th>\n",
       "      <th>...</th>\n",
       "      <th>fare_238</th>\n",
       "      <th>fare_239</th>\n",
       "      <th>fare_240</th>\n",
       "      <th>fare_241</th>\n",
       "      <th>fare_242</th>\n",
       "      <th>fare_243</th>\n",
       "      <th>fare_244</th>\n",
       "      <th>fare_245</th>\n",
       "      <th>fare_246</th>\n",
       "      <th>fare_247</th>\n",
       "    </tr>\n",
       "  </thead>\n",
       "  <tbody>\n",
       "    <tr>\n",
       "      <th>survived</th>\n",
       "      <td>1.000000</td>\n",
       "      <td>-0.338481</td>\n",
       "      <td>-0.077221</td>\n",
       "      <td>-0.035322</td>\n",
       "      <td>0.081629</td>\n",
       "      <td>-0.557080</td>\n",
       "      <td>-0.203367</td>\n",
       "      <td>-0.085343</td>\n",
       "      <td>-0.026456</td>\n",
       "      <td>-0.026456</td>\n",
       "      <td>...</td>\n",
       "      <td>0.033803</td>\n",
       "      <td>0.060095</td>\n",
       "      <td>0.073642</td>\n",
       "      <td>-0.026456</td>\n",
       "      <td>-0.026456</td>\n",
       "      <td>0.050561</td>\n",
       "      <td>0.011329</td>\n",
       "      <td>0.060095</td>\n",
       "      <td>0.016040</td>\n",
       "      <td>0.073642</td>\n",
       "    </tr>\n",
       "    <tr>\n",
       "      <th>pclass</th>\n",
       "      <td>-0.338481</td>\n",
       "      <td>1.000000</td>\n",
       "      <td>-0.369226</td>\n",
       "      <td>0.083081</td>\n",
       "      <td>0.018443</td>\n",
       "      <td>0.094035</td>\n",
       "      <td>0.135207</td>\n",
       "      <td>-0.058774</td>\n",
       "      <td>0.027734</td>\n",
       "      <td>-0.052496</td>\n",
       "      <td>...</td>\n",
       "      <td>-0.091028</td>\n",
       "      <td>-0.074282</td>\n",
       "      <td>-0.091028</td>\n",
       "      <td>-0.052496</td>\n",
       "      <td>-0.052496</td>\n",
       "      <td>-0.105169</td>\n",
       "      <td>-0.074282</td>\n",
       "      <td>-0.074282</td>\n",
       "      <td>-0.105169</td>\n",
       "      <td>-0.091028</td>\n",
       "    </tr>\n",
       "    <tr>\n",
       "      <th>age</th>\n",
       "      <td>-0.077221</td>\n",
       "      <td>-0.369226</td>\n",
       "      <td>1.000000</td>\n",
       "      <td>-0.308247</td>\n",
       "      <td>-0.189119</td>\n",
       "      <td>0.280328</td>\n",
       "      <td>0.198270</td>\n",
       "      <td>0.037315</td>\n",
       "      <td>-0.025023</td>\n",
       "      <td>0.008516</td>\n",
       "      <td>...</td>\n",
       "      <td>0.069959</td>\n",
       "      <td>0.030307</td>\n",
       "      <td>-0.003128</td>\n",
       "      <td>-0.006963</td>\n",
       "      <td>NaN</td>\n",
       "      <td>0.013279</td>\n",
       "      <td>0.026656</td>\n",
       "      <td>-0.037238</td>\n",
       "      <td>0.014482</td>\n",
       "      <td>0.025212</td>\n",
       "    </tr>\n",
       "    <tr>\n",
       "      <th>sibsp</th>\n",
       "      <td>-0.035322</td>\n",
       "      <td>0.083081</td>\n",
       "      <td>-0.308247</td>\n",
       "      <td>1.000000</td>\n",
       "      <td>0.414838</td>\n",
       "      <td>-0.253586</td>\n",
       "      <td>-0.584471</td>\n",
       "      <td>-0.062097</td>\n",
       "      <td>-0.015907</td>\n",
       "      <td>-0.015907</td>\n",
       "      <td>...</td>\n",
       "      <td>-0.027582</td>\n",
       "      <td>-0.000990</td>\n",
       "      <td>-0.027582</td>\n",
       "      <td>-0.015907</td>\n",
       "      <td>-0.015907</td>\n",
       "      <td>-0.016635</td>\n",
       "      <td>-0.022508</td>\n",
       "      <td>0.063564</td>\n",
       "      <td>0.120460</td>\n",
       "      <td>-0.027582</td>\n",
       "    </tr>\n",
       "    <tr>\n",
       "      <th>parch</th>\n",
       "      <td>0.081629</td>\n",
       "      <td>0.018443</td>\n",
       "      <td>-0.189119</td>\n",
       "      <td>0.414838</td>\n",
       "      <td>1.000000</td>\n",
       "      <td>-0.349943</td>\n",
       "      <td>-0.583398</td>\n",
       "      <td>-0.061983</td>\n",
       "      <td>-0.015878</td>\n",
       "      <td>-0.015878</td>\n",
       "      <td>...</td>\n",
       "      <td>0.020568</td>\n",
       "      <td>0.065848</td>\n",
       "      <td>0.020568</td>\n",
       "      <td>0.067340</td>\n",
       "      <td>-0.015878</td>\n",
       "      <td>-0.031809</td>\n",
       "      <td>0.036410</td>\n",
       "      <td>0.095286</td>\n",
       "      <td>0.176586</td>\n",
       "      <td>-0.003482</td>\n",
       "    </tr>\n",
       "    <tr>\n",
       "      <th>...</th>\n",
       "      <td>...</td>\n",
       "      <td>...</td>\n",
       "      <td>...</td>\n",
       "      <td>...</td>\n",
       "      <td>...</td>\n",
       "      <td>...</td>\n",
       "      <td>...</td>\n",
       "      <td>...</td>\n",
       "      <td>...</td>\n",
       "      <td>...</td>\n",
       "      <td>...</td>\n",
       "      <td>...</td>\n",
       "      <td>...</td>\n",
       "      <td>...</td>\n",
       "      <td>...</td>\n",
       "      <td>...</td>\n",
       "      <td>...</td>\n",
       "      <td>...</td>\n",
       "      <td>...</td>\n",
       "      <td>...</td>\n",
       "      <td>...</td>\n",
       "    </tr>\n",
       "    <tr>\n",
       "      <th>fare_243</th>\n",
       "      <td>0.050561</td>\n",
       "      <td>-0.105169</td>\n",
       "      <td>0.013279</td>\n",
       "      <td>-0.016635</td>\n",
       "      <td>-0.031809</td>\n",
       "      <td>-0.048401</td>\n",
       "      <td>0.020215</td>\n",
       "      <td>-0.008787</td>\n",
       "      <td>-0.002251</td>\n",
       "      <td>-0.002251</td>\n",
       "      <td>...</td>\n",
       "      <td>-0.003903</td>\n",
       "      <td>-0.003185</td>\n",
       "      <td>-0.003903</td>\n",
       "      <td>-0.002251</td>\n",
       "      <td>-0.002251</td>\n",
       "      <td>1.000000</td>\n",
       "      <td>-0.003185</td>\n",
       "      <td>-0.003185</td>\n",
       "      <td>-0.004510</td>\n",
       "      <td>-0.003903</td>\n",
       "    </tr>\n",
       "    <tr>\n",
       "      <th>fare_244</th>\n",
       "      <td>0.011329</td>\n",
       "      <td>-0.074282</td>\n",
       "      <td>0.026656</td>\n",
       "      <td>-0.022508</td>\n",
       "      <td>0.036410</td>\n",
       "      <td>-0.009954</td>\n",
       "      <td>-0.058418</td>\n",
       "      <td>-0.006207</td>\n",
       "      <td>-0.001590</td>\n",
       "      <td>-0.001590</td>\n",
       "      <td>...</td>\n",
       "      <td>-0.002757</td>\n",
       "      <td>-0.002250</td>\n",
       "      <td>-0.002757</td>\n",
       "      <td>-0.001590</td>\n",
       "      <td>-0.001590</td>\n",
       "      <td>-0.003185</td>\n",
       "      <td>1.000000</td>\n",
       "      <td>-0.002250</td>\n",
       "      <td>-0.003185</td>\n",
       "      <td>-0.002757</td>\n",
       "    </tr>\n",
       "    <tr>\n",
       "      <th>fare_245</th>\n",
       "      <td>0.060095</td>\n",
       "      <td>-0.074282</td>\n",
       "      <td>-0.037238</td>\n",
       "      <td>0.063564</td>\n",
       "      <td>0.095286</td>\n",
       "      <td>-0.058418</td>\n",
       "      <td>-0.058418</td>\n",
       "      <td>-0.006207</td>\n",
       "      <td>-0.001590</td>\n",
       "      <td>-0.001590</td>\n",
       "      <td>...</td>\n",
       "      <td>-0.002757</td>\n",
       "      <td>-0.002250</td>\n",
       "      <td>-0.002757</td>\n",
       "      <td>-0.001590</td>\n",
       "      <td>-0.001590</td>\n",
       "      <td>-0.003185</td>\n",
       "      <td>-0.002250</td>\n",
       "      <td>1.000000</td>\n",
       "      <td>-0.003185</td>\n",
       "      <td>-0.002757</td>\n",
       "    </tr>\n",
       "    <tr>\n",
       "      <th>fare_246</th>\n",
       "      <td>0.016040</td>\n",
       "      <td>-0.105169</td>\n",
       "      <td>0.014482</td>\n",
       "      <td>0.120460</td>\n",
       "      <td>0.176586</td>\n",
       "      <td>-0.014093</td>\n",
       "      <td>-0.082709</td>\n",
       "      <td>-0.008787</td>\n",
       "      <td>-0.002251</td>\n",
       "      <td>-0.002251</td>\n",
       "      <td>...</td>\n",
       "      <td>-0.003903</td>\n",
       "      <td>-0.003185</td>\n",
       "      <td>-0.003903</td>\n",
       "      <td>-0.002251</td>\n",
       "      <td>-0.002251</td>\n",
       "      <td>-0.004510</td>\n",
       "      <td>-0.003185</td>\n",
       "      <td>-0.003185</td>\n",
       "      <td>1.000000</td>\n",
       "      <td>-0.003903</td>\n",
       "    </tr>\n",
       "    <tr>\n",
       "      <th>fare_247</th>\n",
       "      <td>0.073642</td>\n",
       "      <td>-0.091028</td>\n",
       "      <td>0.025212</td>\n",
       "      <td>-0.027582</td>\n",
       "      <td>-0.003482</td>\n",
       "      <td>0.007599</td>\n",
       "      <td>0.007599</td>\n",
       "      <td>-0.007606</td>\n",
       "      <td>-0.001948</td>\n",
       "      <td>-0.001948</td>\n",
       "      <td>...</td>\n",
       "      <td>-0.003378</td>\n",
       "      <td>-0.002757</td>\n",
       "      <td>-0.003378</td>\n",
       "      <td>-0.001948</td>\n",
       "      <td>-0.001948</td>\n",
       "      <td>-0.003903</td>\n",
       "      <td>-0.002757</td>\n",
       "      <td>-0.002757</td>\n",
       "      <td>-0.003903</td>\n",
       "      <td>1.000000</td>\n",
       "    </tr>\n",
       "  </tbody>\n",
       "</table>\n",
       "<p>255 rows × 255 columns</p>\n",
       "</div>"
      ],
      "text/plain": [
       "          survived    pclass       age     sibsp     parch  adult_male  \\\n",
       "survived  1.000000 -0.338481 -0.077221 -0.035322  0.081629   -0.557080   \n",
       "pclass   -0.338481  1.000000 -0.369226  0.083081  0.018443    0.094035   \n",
       "age      -0.077221 -0.369226  1.000000 -0.308247 -0.189119    0.280328   \n",
       "sibsp    -0.035322  0.083081 -0.308247  1.000000  0.414838   -0.253586   \n",
       "parch     0.081629  0.018443 -0.189119  0.414838  1.000000   -0.349943   \n",
       "...            ...       ...       ...       ...       ...         ...   \n",
       "fare_243  0.050561 -0.105169  0.013279 -0.016635 -0.031809   -0.048401   \n",
       "fare_244  0.011329 -0.074282  0.026656 -0.022508  0.036410   -0.009954   \n",
       "fare_245  0.060095 -0.074282 -0.037238  0.063564  0.095286   -0.058418   \n",
       "fare_246  0.016040 -0.105169  0.014482  0.120460  0.176586   -0.014093   \n",
       "fare_247  0.073642 -0.091028  0.025212 -0.027582 -0.003482    0.007599   \n",
       "\n",
       "             alone    fare_0    fare_1    fare_2  ...  fare_238  fare_239  \\\n",
       "survived -0.203367 -0.085343 -0.026456 -0.026456  ...  0.033803  0.060095   \n",
       "pclass    0.135207 -0.058774  0.027734 -0.052496  ... -0.091028 -0.074282   \n",
       "age       0.198270  0.037315 -0.025023  0.008516  ...  0.069959  0.030307   \n",
       "sibsp    -0.584471 -0.062097 -0.015907 -0.015907  ... -0.027582 -0.000990   \n",
       "parch    -0.583398 -0.061983 -0.015878 -0.015878  ...  0.020568  0.065848   \n",
       "...            ...       ...       ...       ...  ...       ...       ...   \n",
       "fare_243  0.020215 -0.008787 -0.002251 -0.002251  ... -0.003903 -0.003185   \n",
       "fare_244 -0.058418 -0.006207 -0.001590 -0.001590  ... -0.002757 -0.002250   \n",
       "fare_245 -0.058418 -0.006207 -0.001590 -0.001590  ... -0.002757 -0.002250   \n",
       "fare_246 -0.082709 -0.008787 -0.002251 -0.002251  ... -0.003903 -0.003185   \n",
       "fare_247  0.007599 -0.007606 -0.001948 -0.001948  ... -0.003378 -0.002757   \n",
       "\n",
       "          fare_240  fare_241  fare_242  fare_243  fare_244  fare_245  \\\n",
       "survived  0.073642 -0.026456 -0.026456  0.050561  0.011329  0.060095   \n",
       "pclass   -0.091028 -0.052496 -0.052496 -0.105169 -0.074282 -0.074282   \n",
       "age      -0.003128 -0.006963       NaN  0.013279  0.026656 -0.037238   \n",
       "sibsp    -0.027582 -0.015907 -0.015907 -0.016635 -0.022508  0.063564   \n",
       "parch     0.020568  0.067340 -0.015878 -0.031809  0.036410  0.095286   \n",
       "...            ...       ...       ...       ...       ...       ...   \n",
       "fare_243 -0.003903 -0.002251 -0.002251  1.000000 -0.003185 -0.003185   \n",
       "fare_244 -0.002757 -0.001590 -0.001590 -0.003185  1.000000 -0.002250   \n",
       "fare_245 -0.002757 -0.001590 -0.001590 -0.003185 -0.002250  1.000000   \n",
       "fare_246 -0.003903 -0.002251 -0.002251 -0.004510 -0.003185 -0.003185   \n",
       "fare_247 -0.003378 -0.001948 -0.001948 -0.003903 -0.002757 -0.002757   \n",
       "\n",
       "          fare_246  fare_247  \n",
       "survived  0.016040  0.073642  \n",
       "pclass   -0.105169 -0.091028  \n",
       "age       0.014482  0.025212  \n",
       "sibsp     0.120460 -0.027582  \n",
       "parch     0.176586 -0.003482  \n",
       "...            ...       ...  \n",
       "fare_243 -0.004510 -0.003903  \n",
       "fare_244 -0.003185 -0.002757  \n",
       "fare_245 -0.003185 -0.002757  \n",
       "fare_246  1.000000 -0.003903  \n",
       "fare_247 -0.003903  1.000000  \n",
       "\n",
       "[255 rows x 255 columns]"
      ]
     },
     "execution_count": 118,
     "metadata": {},
     "output_type": "execute_result"
    }
   ],
   "source": [
    "data_main.corr()"
   ]
  },
  {
   "cell_type": "code",
   "execution_count": 127,
   "id": "4e39549b",
   "metadata": {},
   "outputs": [
    {
     "data": {
      "text/plain": [
       "140    101\n",
       "439     72\n",
       "817    170\n",
       "378      1\n",
       "491     18\n",
       "      ... \n",
       "835    221\n",
       "192     36\n",
       "629     27\n",
       "559    111\n",
       "684    172\n",
       "Name: fare, Length: 712, dtype: int64"
      ]
     },
     "execution_count": 127,
     "metadata": {},
     "output_type": "execute_result"
    }
   ],
   "source": [
    "y_train"
   ]
  },
  {
   "cell_type": "code",
   "execution_count": 128,
   "id": "5602af68",
   "metadata": {},
   "outputs": [
    {
     "data": {
      "text/plain": [
       "495     95\n",
       "648     22\n",
       "278    151\n",
       "31     236\n",
       "255    101\n",
       "      ... \n",
       "780     17\n",
       "837     43\n",
       "215    231\n",
       "833     36\n",
       "372     43\n",
       "Name: fare, Length: 179, dtype: int64"
      ]
     },
     "execution_count": 128,
     "metadata": {},
     "output_type": "execute_result"
    }
   ],
   "source": [
    "y_test"
   ]
  },
  {
   "cell_type": "code",
   "execution_count": 164,
   "id": "d54b837b",
   "metadata": {},
   "outputs": [],
   "source": [
    "x_train, x_test, y_train, y_test = train_test_split(x, y, test_size=0.2, random_state=42)\n"
   ]
  },
  {
   "cell_type": "code",
   "execution_count": 25,
   "id": "318741c8",
   "metadata": {},
   "outputs": [],
   "source": [
    "# 7. check for categorical columns and perform encoding\n",
    "categorical_columns = data.select_dtypes(include=['object']).columns\n"
   ]
  },
  {
   "cell_type": "code",
   "execution_count": 26,
   "id": "ce1c30aa",
   "metadata": {},
   "outputs": [],
   "source": [
    "encoded_data = pd.get_dummies(data, columns=categorical_columns)\n"
   ]
  },
  {
   "cell_type": "code",
   "execution_count": 27,
   "id": "110ab639",
   "metadata": {},
   "outputs": [],
   "source": [
    "# 8. split the data into dependent and independent variables\n",
    "\n",
    "X = data.drop('fare', axis=1)  \n",
    "y = data['parch'] \n"
   ]
  },
  {
   "cell_type": "code",
   "execution_count": 28,
   "id": "912073af",
   "metadata": {},
   "outputs": [],
   "source": [
    "import pandas as pd\n",
    "from sklearn.preprocessing import StandardScaler\n"
   ]
  },
  {
   "cell_type": "code",
   "execution_count": 31,
   "id": "43cbf07d",
   "metadata": {},
   "outputs": [],
   "source": [
    "X = data.drop('fare', axis=1)  \n",
    "y = data['parch'] \n"
   ]
  },
  {
   "cell_type": "code",
   "execution_count": 40,
   "id": "30751dcd",
   "metadata": {},
   "outputs": [],
   "source": [
    "#9. scale the independent variables\n",
    "\n",
    "import pandas as pd\n",
    "from sklearn.preprocessing import StandardScaler\n"
   ]
  },
  {
   "cell_type": "code",
   "execution_count": 45,
   "id": "9eaca70f",
   "metadata": {},
   "outputs": [],
   "source": [
    "data = pd.read_csv('titanic.csv')\n"
   ]
  },
  {
   "cell_type": "code",
   "execution_count": 43,
   "id": "7855078a",
   "metadata": {},
   "outputs": [],
   "source": [
    "X = data.drop('fare', axis=1)  # Features (independent variables)\n",
    "y = data['parch']  # Target variable (dependent variable)\n",
    "\n"
   ]
  },
  {
   "cell_type": "code",
   "execution_count": 165,
   "id": "1d3ff11d",
   "metadata": {},
   "outputs": [],
   "source": [
    "# 10. split the data into training trainig and testing\n",
    "import pandas as pd\n",
    "from sklearn.model_selection import train_test_split\n"
   ]
  },
  {
   "cell_type": "code",
   "execution_count": 166,
   "id": "f44fd099",
   "metadata": {},
   "outputs": [],
   "source": [
    "X_train, X_test, y_train, y_test = train_test_split(X, y, test_size=0.2, random_state=42)\n"
   ]
  },
  {
   "cell_type": "code",
   "execution_count": null,
   "id": "12131daa",
   "metadata": {},
   "outputs": [],
   "source": [
    "#10. split the data into training and testing\n",
    "\n",
    "from sklearn.model_selection import train_test_split\n",
    "x_train,x_test,y_train,y_test=train_test_split(x,y,test_size=0.2,random_state=0)\n"
   ]
  },
  {
   "cell_type": "code",
   "execution_count": 180,
   "id": "9dae7d80",
   "metadata": {},
   "outputs": [
    {
     "name": "stdout",
     "output_type": "stream",
     "text": [
      "(712,)\n",
      "(179,)\n",
      "(712,)\n",
      "(179,)\n"
     ]
    }
   ],
   "source": [
    "\n",
    "print(x_train.shape)\n",
    "print(x_test.shape)\n",
    "print(y_train.shape)\n",
    "print(y_test.shape)\n"
   ]
  },
  {
   "cell_type": "code",
   "execution_count": 183,
   "id": "ecb37348",
   "metadata": {},
   "outputs": [],
   "source": [
    "from sklearn.model_selection import train_test_split"
   ]
  },
  {
   "cell_type": "code",
   "execution_count": 184,
   "id": "ba3c351b",
   "metadata": {},
   "outputs": [],
   "source": [
    "X_train,X_test,y_train,y_test=train_test_split(x,y,test_size=0.2,random_state=0)\n"
   ]
  },
  {
   "cell_type": "code",
   "execution_count": 185,
   "id": "4a12e968",
   "metadata": {},
   "outputs": [
    {
     "data": {
      "text/plain": [
       "140    101.0\n",
       "439     72.0\n",
       "817    170.0\n",
       "378      1.0\n",
       "491     18.0\n",
       "       ...  \n",
       "835    221.0\n",
       "192     36.0\n",
       "629     27.0\n",
       "559    111.0\n",
       "684    172.0\n",
       "Name: fare, Length: 712, dtype: float64"
      ]
     },
     "execution_count": 185,
     "metadata": {},
     "output_type": "execute_result"
    }
   ],
   "source": [
    "y_train"
   ]
  },
  {
   "cell_type": "code",
   "execution_count": 186,
   "id": "3495e5fd",
   "metadata": {},
   "outputs": [
    {
     "data": {
      "text/plain": [
       "495     95.0\n",
       "648     22.0\n",
       "278    151.0\n",
       "31     236.0\n",
       "255    101.0\n",
       "       ...  \n",
       "780     17.0\n",
       "837     43.0\n",
       "215    231.0\n",
       "833     36.0\n",
       "372     43.0\n",
       "Name: fare, Length: 179, dtype: float64"
      ]
     },
     "execution_count": 186,
     "metadata": {},
     "output_type": "execute_result"
    }
   ],
   "source": [
    "y_test"
   ]
  },
  {
   "cell_type": "code",
   "execution_count": 187,
   "id": "a16990a0",
   "metadata": {},
   "outputs": [],
   "source": [
    "y = data['fare']"
   ]
  },
  {
   "cell_type": "code",
   "execution_count": 188,
   "id": "c80c33f0",
   "metadata": {},
   "outputs": [
    {
     "name": "stdout",
     "output_type": "stream",
     "text": [
      "0       7.2500\n",
      "1      71.2833\n",
      "2       7.9250\n",
      "3      53.1000\n",
      "4       8.0500\n",
      "        ...   \n",
      "886    13.0000\n",
      "887    30.0000\n",
      "888    23.4500\n",
      "889    30.0000\n",
      "890     7.7500\n",
      "Name: fare, Length: 891, dtype: float64\n"
     ]
    }
   ],
   "source": [
    "print(y)"
   ]
  },
  {
   "cell_type": "code",
   "execution_count": null,
   "id": "f7a87bf6",
   "metadata": {},
   "outputs": [],
   "source": []
  }
 ],
 "metadata": {
  "kernelspec": {
   "display_name": "Python 3 (ipykernel)",
   "language": "python",
   "name": "python3"
  },
  "language_info": {
   "codemirror_mode": {
    "name": "ipython",
    "version": 3
   },
   "file_extension": ".py",
   "mimetype": "text/x-python",
   "name": "python",
   "nbconvert_exporter": "python",
   "pygments_lexer": "ipython3",
   "version": "3.10.9"
  }
 },
 "nbformat": 4,
 "nbformat_minor": 5
}
