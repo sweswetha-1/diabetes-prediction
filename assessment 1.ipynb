{
 "cells": [
  {
   "cell_type": "markdown",
   "id": "3b6ea52e",
   "metadata": {},
   "source": [
    "NAME : SWETHA V\n"
   ]
  },
  {
   "cell_type": "markdown",
   "id": "cd6b1c74",
   "metadata": {},
   "source": [
    "REGISTER NUMBER : 20MIS0405"
   ]
  },
  {
   "cell_type": "code",
   "execution_count": 3,
   "id": "f7741997",
   "metadata": {},
   "outputs": [
    {
     "name": "stdout",
     "output_type": "stream",
     "text": [
      "xyz\n",
      "19\n"
     ]
    }
   ],
   "source": [
    "# 1.\n",
    "\n",
    "name = \"xyz\"\n",
    "print(name)\n",
    "age = 19\n",
    "print(age)\n"
   ]
  },
  {
   "cell_type": "code",
   "execution_count": 11,
   "id": "1048c3ed",
   "metadata": {
    "scrolled": true
   },
   "outputs": [
    {
     "name": "stdout",
     "output_type": "stream",
     "text": [
      "['Datascience', 'is', 'used', 'to', 'extract', 'meaningful', 'insights.']\n"
     ]
    }
   ],
   "source": [
    "# 2.\n",
    "\n",
    "X=\"Datascience is used to extract meaningful insights.\"\n",
    "x = X.split()\n",
    "print(x)"
   ]
  },
  {
   "cell_type": "code",
   "execution_count": 21,
   "id": "c06a8aeb",
   "metadata": {},
   "outputs": [],
   "source": [
    "# 3. \n",
    "\n",
    "def multiplication(x,y):\n",
    "    z= x*y\n",
    "    print(z)"
   ]
  },
  {
   "cell_type": "code",
   "execution_count": 22,
   "id": "95c94aa1",
   "metadata": {},
   "outputs": [
    {
     "name": "stdout",
     "output_type": "stream",
     "text": [
      "10\n"
     ]
    }
   ],
   "source": [
    "multiplication(10,1)"
   ]
  },
  {
   "cell_type": "code",
   "execution_count": 26,
   "id": "e15481f8",
   "metadata": {},
   "outputs": [
    {
     "name": "stdout",
     "output_type": "stream",
     "text": [
      "1\n",
      "101\n",
      "201\n",
      "301\n",
      "401\n",
      "501\n",
      "601\n",
      "701\n",
      "801\n",
      "901\n"
     ]
    }
   ],
   "source": [
    "# 5.\n",
    "\n",
    "x = range(1,1000,100)\n",
    "for n in x:\n",
    "    print(n)\n"
   ]
  },
  {
   "cell_type": "code",
   "execution_count": 28,
   "id": "8313a3ce",
   "metadata": {},
   "outputs": [
    {
     "data": {
      "text/plain": [
       "array([[1, 2, 3, 4],\n",
       "       [8, 9, 0, 1],\n",
       "       [1, 3, 2, 4],\n",
       "       [4, 9, 0, 8]])"
      ]
     },
     "execution_count": 28,
     "metadata": {},
     "output_type": "execute_result"
    }
   ],
   "source": [
    "import numpy as np\n",
    "x = np.array([[1,2,3,4],[8,9,0,1],[1,3,2,4],[4,9,0,8]])\n",
    "x"
   ]
  },
  {
   "cell_type": "code",
   "execution_count": 29,
   "id": "922fc683",
   "metadata": {},
   "outputs": [
    {
     "data": {
      "text/plain": [
       "2"
      ]
     },
     "execution_count": 29,
     "metadata": {},
     "output_type": "execute_result"
    }
   ],
   "source": [
    "x.ndim"
   ]
  },
  {
   "cell_type": "code",
   "execution_count": 130,
   "id": "45307b15",
   "metadata": {},
   "outputs": [
    {
     "data": {
      "text/plain": [
       "array([[[[1, 0, 0, 0],\n",
       "         [0, 1, 0, 0],\n",
       "         [0, 0, 1, 0],\n",
       "         [0, 0, 0, 1]]]])"
      ]
     },
     "execution_count": 130,
     "metadata": {},
     "output_type": "execute_result"
    }
   ],
   "source": [
    "# 6. \n",
    "\n",
    "import numpy as np\n",
    "x = np.array([[[[1,0,0,0],[0,1,0,0],[0,0,1,0],[0,0,0,1]]]])\n",
    "x              \n"
   ]
  },
  {
   "cell_type": "code",
   "execution_count": 131,
   "id": "5d56dd2e",
   "metadata": {},
   "outputs": [
    {
     "data": {
      "text/plain": [
       "4"
      ]
     },
     "execution_count": 131,
     "metadata": {},
     "output_type": "execute_result"
    }
   ],
   "source": [
    "x.ndim"
   ]
  },
  {
   "cell_type": "code",
   "execution_count": 94,
   "id": "8a6fa54e",
   "metadata": {},
   "outputs": [
    {
     "name": "stdout",
     "output_type": "stream",
     "text": [
      "1  0  0  0  \n",
      "0  1  0  0  \n",
      "0  0  1  0  \n",
      "0  0  0  1  \n"
     ]
    }
   ],
   "source": [
    "# 6. \n",
    "def Identity(size):\n",
    "for row in range(0, size):\n",
    "for col in range(0, size):\n",
    "    if (row == col):\n",
    "print(\"1 \", end=\" \")\n",
    "else:\n",
    "print(\"0 \", end=\" \")\n",
    "print()\n",
    "\n",
    "\n",
    "size = 4\n",
    "Identity(size)\n",
    "\n",
    "\n"
   ]
  },
  {
   "cell_type": "code",
   "execution_count": null,
   "id": "f85c6ccb",
   "metadata": {},
   "outputs": [],
   "source": []
  },
  {
   "cell_type": "code",
   "execution_count": 74,
   "id": "10b9bb20",
   "metadata": {},
   "outputs": [
    {
     "name": "stdout",
     "output_type": "stream",
     "text": [
      "[[1 2 3]\n",
      " [4 5 6]\n",
      " [7 8 9]]\n"
     ]
    }
   ],
   "source": [
    "# 7. \n",
    "\n",
    "import numpy as np\n",
    "x =  np.arange(1,10).reshape(3,3)\n",
    "print(x)"
   ]
  },
  {
   "cell_type": "code",
   "execution_count": 2,
   "id": "e2af5f63",
   "metadata": {},
   "outputs": [
    {
     "name": "stdout",
     "output_type": "stream",
     "text": [
      "[[11 13 15]\n",
      " [17 19 21]\n",
      " [23 25 27]]\n"
     ]
    }
   ],
   "source": [
    "# 8. \n",
    "import numpy as np\n",
    "array1 = np.array([[1, 2, 3], [4, 5, 6], [7, 8, 9]])\n",
    "array2 = np.array([[10, 11, 12], [13, 14, 15], [16, 17, 18]])\n",
    "\n",
    "array_sum = array1 + array2\n",
    "print(array_sum)\n"
   ]
  },
  {
   "cell_type": "code",
   "execution_count": 101,
   "id": "35646353",
   "metadata": {},
   "outputs": [
    {
     "name": "stdout",
     "output_type": "stream",
     "text": [
      "Index(['01-02-2022', '02-02-2022', '03-02-2022', '04-02-2022', '05-02-2022',\n",
      "       '06-02-2022', '07-02-2022', '08-02-2022', '09-02-2022', '10-02-2022',\n",
      "       '11-02-2022', '12-02-2022', '13-02-2022', '14-02-2022', '15-02-2022',\n",
      "       '16-02-2022', '17-02-2022', '18-02-2022', '19-02-2022', '20-02-2022',\n",
      "       '21-02-2022', '22-02-2022', '23-02-2022', '24-02-2022', '25-02-2022',\n",
      "       '26-02-2022', '27-02-2022', '28-02-2022', '01-03-2022'],\n",
      "      dtype='object')\n"
     ]
    }
   ],
   "source": [
    "# 9. \n",
    "\n",
    "import datetime\n",
    "import pandas as pd\n",
    "\n",
    "# initializing date\n",
    "test_date = datetime.datetime.strptime(\"01-2-2022\", \"%d-%m-%Y\")\n",
    "\n",
    "\n",
    "K = 29\n",
    "\n",
    "date_generated = pd.date_range(test_date, periods=K)\n",
    "print(date_generated.strftime(\"%d-%m-%Y\"))\n"
   ]
  },
  {
   "cell_type": "code",
   "execution_count": 110,
   "id": "6f390c48",
   "metadata": {},
   "outputs": [
    {
     "data": {
      "text/html": [
       "<div>\n",
       "<style scoped>\n",
       "    .dataframe tbody tr th:only-of-type {\n",
       "        vertical-align: middle;\n",
       "    }\n",
       "\n",
       "    .dataframe tbody tr th {\n",
       "        vertical-align: top;\n",
       "    }\n",
       "\n",
       "    .dataframe thead th {\n",
       "        text-align: right;\n",
       "    }\n",
       "</style>\n",
       "<table border=\"1\" class=\"dataframe\">\n",
       "  <thead>\n",
       "    <tr style=\"text-align: right;\">\n",
       "      <th></th>\n",
       "      <th>Brand</th>\n",
       "      <th>Sales</th>\n",
       "    </tr>\n",
       "  </thead>\n",
       "  <tbody>\n",
       "    <tr>\n",
       "      <th>0</th>\n",
       "      <td>Maruti</td>\n",
       "      <td>250</td>\n",
       "    </tr>\n",
       "    <tr>\n",
       "      <th>1</th>\n",
       "      <td>Renault</td>\n",
       "      <td>200</td>\n",
       "    </tr>\n",
       "    <tr>\n",
       "      <th>2</th>\n",
       "      <td>Hyndai</td>\n",
       "      <td>240</td>\n",
       "    </tr>\n",
       "  </tbody>\n",
       "</table>\n",
       "</div>"
      ],
      "text/plain": [
       "     Brand  Sales\n",
       "0   Maruti    250\n",
       "1  Renault    200\n",
       "2   Hyndai    240"
      ]
     },
     "execution_count": 110,
     "metadata": {},
     "output_type": "execute_result"
    }
   ],
   "source": [
    "# 10.\n",
    "\n",
    "import pandas as pd\n",
    "\n",
    "data = {'Brand':['Maruti','Renault','Hyndai'],\n",
    "        'Sales':[250,200,240]}\n",
    "dataframe = pd.DataFrame.from_dict(data)\n",
    "dataframe"
   ]
  },
  {
   "cell_type": "code",
   "execution_count": null,
   "id": "3cb41311",
   "metadata": {},
   "outputs": [],
   "source": []
  },
  {
   "cell_type": "code",
   "execution_count": null,
   "id": "0db9caf8",
   "metadata": {},
   "outputs": [],
   "source": []
  },
  {
   "cell_type": "code",
   "execution_count": null,
   "id": "313533e6",
   "metadata": {},
   "outputs": [],
   "source": []
  },
  {
   "cell_type": "code",
   "execution_count": null,
   "id": "166c9b95",
   "metadata": {},
   "outputs": [],
   "source": []
  }
 ],
 "metadata": {
  "kernelspec": {
   "display_name": "Python 3 (ipykernel)",
   "language": "python",
   "name": "python3"
  },
  "language_info": {
   "codemirror_mode": {
    "name": "ipython",
    "version": 3
   },
   "file_extension": ".py",
   "mimetype": "text/x-python",
   "name": "python",
   "nbconvert_exporter": "python",
   "pygments_lexer": "ipython3",
   "version": "3.10.9"
  }
 },
 "nbformat": 4,
 "nbformat_minor": 5
}
